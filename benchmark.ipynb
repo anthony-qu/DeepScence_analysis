{
 "cells": [
  {
   "cell_type": "code",
   "execution_count": 1,
   "id": "e7592735-4dff-43d5-84fe-d28589188f48",
   "metadata": {},
   "outputs": [
    {
     "name": "stdout",
     "output_type": "stream",
     "text": [
      "我困得要死\n"
     ]
    }
   ],
   "source": [
    "import pandas as pd\n",
    "import numpy as np\n",
    "import scanpy as sc\n",
    "import matplotlib.pyplot as plt\n",
    "import seaborn as sns\n",
    "from DeepScence.api import DeepScence\n",
    "from tqdm import tqdm\n",
    "from sklearn.metrics import roc_auc_score, accuracy_score, f1_score\n",
    "from dca.api import dca\n",
    "import os\n",
    "os.chdir(b'/Users/lele/Library/Mobile Documents/com~apple~CloudDocs/Research/Aging')"
   ]
  },
  {
   "cell_type": "markdown",
   "id": "b49a2d31-24aa-4295-aded-a32bfab8b2aa",
   "metadata": {},
   "source": [
    "#### collect scores"
   ]
  },
  {
   "cell_type": "code",
   "execution_count": 2,
   "id": "e40d00d4-57d9-4e6e-97b9-6a12659217b9",
   "metadata": {},
   "outputs": [],
   "source": [
    "hayflick = sc.read_h5ad(\"./data/in_vitro/scored_h5ad/subsets/hayflick_dca.h5ad\")\n",
    "hca = sc.read_h5ad(\"./data/in_vitro/scored_h5ad/subsets/hca_dca.h5ad\")\n",
    "huvec = sc.read_h5ad(\"./data/in_vitro/scored_h5ad/subsets/huvec_dca.h5ad\")\n",
    "notch = sc.read_h5ad(\"./data/in_vitro/scored_h5ad/subsets/notch_dca.h5ad\")\n",
    "oskm = sc.read_h5ad(\"./data/in_vitro/scored_h5ad/subsets/oskm_dca.h5ad\")"
   ]
  },
  {
   "cell_type": "code",
   "execution_count": 3,
   "id": "f2c32f90-20b6-4210-b2a9-de02d05b626a",
   "metadata": {},
   "outputs": [],
   "source": [
    "adata_dict = {\n",
    "    \"hayflick\": hayflick,\n",
    "    \"hca\": hca,\n",
    "    \"notch\": notch,\n",
    "    \"oskm\": oskm,\n",
    "    \"huvec\": huvec\n",
    "}\n",
    "for name, adata in adata_dict.items():\n",
    "    \n",
    "    other_scores = pd.read_csv(f\"./data/in_vitro/scores/{name}_other_scores.csv\", index_col=0)\n",
    "    cid_scores = pd.read_csv(f\"./data/in_vitro/scores/{name}_SenCID.csv\", index_col=0)\n",
    "    other_scores = other_scores.loc[adata.obs_names]\n",
    "    cid_scores = cid_scores.loc[adata.obs_names]\n",
    "    \n",
    "    gene_expression_df = pd.DataFrame({\n",
    "        \"CDKN1A_positive\": (adata[:, \"CDKN1A\"].X > 0).flatten().astype(int),\n",
    "        \"CDKN2A_positive\": (adata[:, \"CDKN2A\"].X > 0).flatten().astype(int)\n",
    "    }, index=adata.obs.index)\n",
    "    \n",
    "    combined_scores = pd.concat([other_scores, cid_scores, gene_expression_df], axis=1)\n",
    "    adata.obs = adata.obs.drop(columns=combined_scores.columns, errors='ignore')\n",
    "    adata.obs = pd.concat([adata.obs, combined_scores], axis=1)\n",
    "    adata_dict[name] = adata"
   ]
  },
  {
   "cell_type": "markdown",
   "id": "6815b18e-2fc4-4dda-b0ca-b18ba7f8507a",
   "metadata": {},
   "source": [
    "#### 1. Add DeepScence scores"
   ]
  },
  {
   "cell_type": "code",
   "execution_count": 4,
   "id": "bb688faa-93a9-402b-8804-820bac2fe284",
   "metadata": {},
   "outputs": [
    {
     "name": "stdout",
     "output_type": "stream",
     "text": [
      "processing hayflick\n"
     ]
    },
    {
     "name": "stderr",
     "output_type": "stream",
     "text": [
      "[2024-10-01 11:30] Input is preprocessed, preprocessed 14317 genes and 2869 cells.\n",
      "[2024-10-01 11:30] Using 34 genes in the gene set for scoring\n",
      "[2024-10-01 11:30] Lambda provided, capturing scores in 2 neurons.\n",
      "[2024-10-01 11:30] Training on 2583 cells, validate on 286 cells.\n",
      "[2024-10-01 11:30] Binarizing with permutation...\n",
      "100%|███████████████████████████████████████████| 50/50 [00:18<00:00,  2.67it/s]\n",
      "/Users/lele/Downloads/anaconda3/envs/sene/lib/python3.8/site-packages/threadpoolctl.py:1223: RuntimeWarning: \n",
      "Found Intel OpenMP ('libiomp') and LLVM OpenMP ('libomp') loaded at\n",
      "the same time. Both libraries are known to be incompatible and this\n",
      "can cause random crashes or deadlocks on Linux when loaded in the\n",
      "same Python program.\n",
      "Using threadpoolctl may cause crashes or deadlocks. For more\n",
      "information and possible workarounds, please see\n",
      "    https://github.com/joblib/threadpoolctl/blob/master/multiple_openmp.md\n",
      "\n",
      "  warnings.warn(msg, RuntimeWarning)\n",
      "[2024-10-01 11:31] Input is preprocessed, preprocessed 11541 genes and 790 cells.\n"
     ]
    },
    {
     "name": "stdout",
     "output_type": "stream",
     "text": [
      "processing hca\n"
     ]
    },
    {
     "name": "stderr",
     "output_type": "stream",
     "text": [
      "[2024-10-01 11:31] Using 35 genes in the gene set for scoring\n",
      "[2024-10-01 11:31] Lambda provided, capturing scores in 2 neurons.\n",
      "[2024-10-01 11:31] Training on 711 cells, validate on 79 cells.\n",
      "[2024-10-01 11:31] Binarizing with permutation...\n",
      "100%|███████████████████████████████████████████| 50/50 [00:04<00:00, 11.91it/s]\n",
      "[2024-10-01 11:31] Input is preprocessed, preprocessed 15344 genes and 392 cells.\n",
      "[2024-10-01 11:31] Using 35 genes in the gene set for scoring\n",
      "[2024-10-01 11:31] Lambda provided, capturing scores in 2 neurons.\n",
      "[2024-10-01 11:31] Training on 353 cells, validate on 39 cells.\n"
     ]
    },
    {
     "name": "stdout",
     "output_type": "stream",
     "text": [
      "processing notch\n"
     ]
    },
    {
     "name": "stderr",
     "output_type": "stream",
     "text": [
      "[2024-10-01 11:31] Binarizing with permutation...\n",
      "100%|███████████████████████████████████████████| 50/50 [00:03<00:00, 15.06it/s]\n",
      "[2024-10-01 11:31] Input is preprocessed, preprocessed 15509 genes and 198 cells.\n",
      "[2024-10-01 11:31] Using 34 genes in the gene set for scoring\n",
      "[2024-10-01 11:31] Lambda provided, capturing scores in 2 neurons.\n",
      "[2024-10-01 11:31] Training on 179 cells, validate on 19 cells.\n"
     ]
    },
    {
     "name": "stdout",
     "output_type": "stream",
     "text": [
      "processing oskm\n"
     ]
    },
    {
     "name": "stderr",
     "output_type": "stream",
     "text": [
      "[2024-10-01 11:31] Binarizing with permutation...\n",
      "100%|███████████████████████████████████████████| 50/50 [00:02<00:00, 21.48it/s]\n"
     ]
    },
    {
     "name": "stdout",
     "output_type": "stream",
     "text": [
      "processing huvec\n"
     ]
    },
    {
     "name": "stderr",
     "output_type": "stream",
     "text": [
      "[2024-10-01 11:31] Input is preprocessed, preprocessed 11625 genes and 13518 cells.\n",
      "[2024-10-01 11:31] Using 34 genes in the gene set for scoring\n",
      "[2024-10-01 11:31] Lambda provided, capturing scores in 2 neurons.\n",
      "[2024-10-01 11:31] Training on 12167 cells, validate on 1351 cells.\n",
      "[2024-10-01 11:32] Binarizing with permutation...\n",
      "100%|███████████████████████████████████████████| 50/50 [02:25<00:00,  2.91s/it]\n"
     ]
    }
   ],
   "source": [
    "args = {\n",
    "        \"binarize\": True,\n",
    "        \"verbose\": False,\n",
    "        \"denoise\": False,\n",
    "        \"lambda_ortho\": 1,\n",
    "        \"random_state\": 0\n",
    "    }\n",
    "for name, adata in adata_dict.items():\n",
    "    print(f\"processing {name}\")\n",
    "\n",
    "    # keep high quality only\n",
    "    adata = adata[adata.obs[\"clean_label\"]!=\"bad\"]\n",
    "    adata = DeepScence(adata, **args)\n",
    "    adata_dict[name] = adata"
   ]
  },
  {
   "cell_type": "code",
   "execution_count": 7,
   "id": "8db85a85-e5e9-41d8-bc1d-94c76bbe2f73",
   "metadata": {},
   "outputs": [
    {
     "data": {
      "text/plain": [
       "Index(['condition', 'SnC', 'p16', 'p21', 'p53', 'clean_label', 'dca_split',\n",
       "       'n_counts', 'size_factors', 'ssGSEA_CoreScence', 'ssGSEA_senmayo',\n",
       "       'ssGSEA_cellAge', 'ssGSEA_geneAge', 'ssGSEA_csgene', 'ssGSEA_cellsig',\n",
       "       'ssGSEA_quest', 'ssGSEA_sasp', 'ssGSEA_trans', 'AUCell_CoreScence',\n",
       "       'AUCell_senmayo', 'AUCell_cellAge', 'AUCell_geneAge', 'AUCell_csgene',\n",
       "       'AUCell_cellsig', 'AUCell_quest', 'AUCell_sasp', 'AUCell_trans',\n",
       "       'CDKN1A', 'CDKN2A', 'senmayo_binary', 'SID_score', 'CDKN1A_positive',\n",
       "       'CDKN2A_positive', 'ds', 'p', 'cluster', 'binary'],\n",
       "      dtype='object')"
      ]
     },
     "execution_count": 7,
     "metadata": {},
     "output_type": "execute_result"
    }
   ],
   "source": [
    "adata_dict[\"oskm\"].obs.columns"
   ]
  },
  {
   "cell_type": "code",
   "execution_count": 8,
   "id": "815f3d25-53b3-4a85-a4d2-47e5dbc6f5a1",
   "metadata": {},
   "outputs": [
    {
     "data": {
      "text/html": [
       "<div>\n",
       "<style scoped>\n",
       "    .dataframe tbody tr th:only-of-type {\n",
       "        vertical-align: middle;\n",
       "    }\n",
       "\n",
       "    .dataframe tbody tr th {\n",
       "        vertical-align: top;\n",
       "    }\n",
       "\n",
       "    .dataframe thead th {\n",
       "        text-align: right;\n",
       "    }\n",
       "</style>\n",
       "<table border=\"1\" class=\"dataframe\">\n",
       "  <thead>\n",
       "    <tr style=\"text-align: right;\">\n",
       "      <th></th>\n",
       "      <th>ssGSEA_CoreScence</th>\n",
       "      <th>ssGSEA_senmayo</th>\n",
       "      <th>ssGSEA_cellAge</th>\n",
       "      <th>ssGSEA_geneAge</th>\n",
       "      <th>ssGSEA_csgene</th>\n",
       "      <th>ssGSEA_cellsig</th>\n",
       "      <th>ssGSEA_quest</th>\n",
       "      <th>ssGSEA_sasp</th>\n",
       "      <th>ssGSEA_trans</th>\n",
       "      <th>AUCell_CoreScence</th>\n",
       "      <th>...</th>\n",
       "      <th>AUCell_geneAge</th>\n",
       "      <th>AUCell_csgene</th>\n",
       "      <th>AUCell_cellsig</th>\n",
       "      <th>AUCell_quest</th>\n",
       "      <th>AUCell_sasp</th>\n",
       "      <th>AUCell_trans</th>\n",
       "      <th>CDKN1A</th>\n",
       "      <th>CDKN2A</th>\n",
       "      <th>SID_score</th>\n",
       "      <th>ds</th>\n",
       "    </tr>\n",
       "  </thead>\n",
       "  <tbody>\n",
       "    <tr>\n",
       "      <th>hayflick</th>\n",
       "      <td>0.915726</td>\n",
       "      <td>0.914359</td>\n",
       "      <td>0.750198</td>\n",
       "      <td>0.651831</td>\n",
       "      <td>0.557229</td>\n",
       "      <td>0.983637</td>\n",
       "      <td>0.963584</td>\n",
       "      <td>0.887574</td>\n",
       "      <td>0.978452</td>\n",
       "      <td>0.986705</td>\n",
       "      <td>...</td>\n",
       "      <td>0.505259</td>\n",
       "      <td>0.412433</td>\n",
       "      <td>0.998707</td>\n",
       "      <td>0.993317</td>\n",
       "      <td>0.948945</td>\n",
       "      <td>0.995033</td>\n",
       "      <td>0.963411</td>\n",
       "      <td>0.520346</td>\n",
       "      <td>0.981345</td>\n",
       "      <td>0.999750</td>\n",
       "    </tr>\n",
       "    <tr>\n",
       "      <th>hca</th>\n",
       "      <td>0.690203</td>\n",
       "      <td>0.338459</td>\n",
       "      <td>0.503355</td>\n",
       "      <td>0.487178</td>\n",
       "      <td>0.474007</td>\n",
       "      <td>0.879282</td>\n",
       "      <td>0.624554</td>\n",
       "      <td>0.353591</td>\n",
       "      <td>0.799878</td>\n",
       "      <td>0.900202</td>\n",
       "      <td>...</td>\n",
       "      <td>0.507198</td>\n",
       "      <td>0.563019</td>\n",
       "      <td>0.991665</td>\n",
       "      <td>0.819551</td>\n",
       "      <td>0.509579</td>\n",
       "      <td>0.885002</td>\n",
       "      <td>0.727403</td>\n",
       "      <td>0.469117</td>\n",
       "      <td>0.969627</td>\n",
       "      <td>0.999378</td>\n",
       "    </tr>\n",
       "    <tr>\n",
       "      <th>notch</th>\n",
       "      <td>0.940655</td>\n",
       "      <td>0.948089</td>\n",
       "      <td>0.884283</td>\n",
       "      <td>0.688692</td>\n",
       "      <td>0.594678</td>\n",
       "      <td>0.823060</td>\n",
       "      <td>0.876614</td>\n",
       "      <td>0.971879</td>\n",
       "      <td>0.850241</td>\n",
       "      <td>0.818312</td>\n",
       "      <td>...</td>\n",
       "      <td>0.399270</td>\n",
       "      <td>0.345807</td>\n",
       "      <td>0.775792</td>\n",
       "      <td>0.776431</td>\n",
       "      <td>0.868710</td>\n",
       "      <td>0.731199</td>\n",
       "      <td>0.749915</td>\n",
       "      <td>0.750020</td>\n",
       "      <td>0.964888</td>\n",
       "      <td>0.985392</td>\n",
       "    </tr>\n",
       "    <tr>\n",
       "      <th>oskm</th>\n",
       "      <td>0.775953</td>\n",
       "      <td>0.444174</td>\n",
       "      <td>0.505826</td>\n",
       "      <td>0.450847</td>\n",
       "      <td>0.454555</td>\n",
       "      <td>0.786653</td>\n",
       "      <td>0.740148</td>\n",
       "      <td>0.453496</td>\n",
       "      <td>0.760805</td>\n",
       "      <td>0.844174</td>\n",
       "      <td>...</td>\n",
       "      <td>0.252013</td>\n",
       "      <td>0.243750</td>\n",
       "      <td>0.969809</td>\n",
       "      <td>0.919492</td>\n",
       "      <td>0.442479</td>\n",
       "      <td>0.825583</td>\n",
       "      <td>0.691102</td>\n",
       "      <td>0.499576</td>\n",
       "      <td>0.935381</td>\n",
       "      <td>0.970551</td>\n",
       "    </tr>\n",
       "    <tr>\n",
       "      <th>huvec</th>\n",
       "      <td>0.764739</td>\n",
       "      <td>0.797511</td>\n",
       "      <td>0.607325</td>\n",
       "      <td>0.518427</td>\n",
       "      <td>0.485457</td>\n",
       "      <td>0.837814</td>\n",
       "      <td>0.805034</td>\n",
       "      <td>0.703443</td>\n",
       "      <td>0.662339</td>\n",
       "      <td>0.853887</td>\n",
       "      <td>...</td>\n",
       "      <td>0.454555</td>\n",
       "      <td>0.333911</td>\n",
       "      <td>0.914253</td>\n",
       "      <td>0.889547</td>\n",
       "      <td>0.827271</td>\n",
       "      <td>0.669925</td>\n",
       "      <td>0.652601</td>\n",
       "      <td>0.769341</td>\n",
       "      <td>0.911363</td>\n",
       "      <td>0.932809</td>\n",
       "    </tr>\n",
       "  </tbody>\n",
       "</table>\n",
       "<p>5 rows × 22 columns</p>\n",
       "</div>"
      ],
      "text/plain": [
       "          ssGSEA_CoreScence  ssGSEA_senmayo  ssGSEA_cellAge  ssGSEA_geneAge  \\\n",
       "hayflick           0.915726        0.914359        0.750198        0.651831   \n",
       "hca                0.690203        0.338459        0.503355        0.487178   \n",
       "notch              0.940655        0.948089        0.884283        0.688692   \n",
       "oskm               0.775953        0.444174        0.505826        0.450847   \n",
       "huvec              0.764739        0.797511        0.607325        0.518427   \n",
       "\n",
       "          ssGSEA_csgene  ssGSEA_cellsig  ssGSEA_quest  ssGSEA_sasp  \\\n",
       "hayflick       0.557229        0.983637      0.963584     0.887574   \n",
       "hca            0.474007        0.879282      0.624554     0.353591   \n",
       "notch          0.594678        0.823060      0.876614     0.971879   \n",
       "oskm           0.454555        0.786653      0.740148     0.453496   \n",
       "huvec          0.485457        0.837814      0.805034     0.703443   \n",
       "\n",
       "          ssGSEA_trans  AUCell_CoreScence  ...  AUCell_geneAge  AUCell_csgene  \\\n",
       "hayflick      0.978452           0.986705  ...        0.505259       0.412433   \n",
       "hca           0.799878           0.900202  ...        0.507198       0.563019   \n",
       "notch         0.850241           0.818312  ...        0.399270       0.345807   \n",
       "oskm          0.760805           0.844174  ...        0.252013       0.243750   \n",
       "huvec         0.662339           0.853887  ...        0.454555       0.333911   \n",
       "\n",
       "          AUCell_cellsig  AUCell_quest  AUCell_sasp  AUCell_trans    CDKN1A  \\\n",
       "hayflick        0.998707      0.993317     0.948945      0.995033  0.963411   \n",
       "hca             0.991665      0.819551     0.509579      0.885002  0.727403   \n",
       "notch           0.775792      0.776431     0.868710      0.731199  0.749915   \n",
       "oskm            0.969809      0.919492     0.442479      0.825583  0.691102   \n",
       "huvec           0.914253      0.889547     0.827271      0.669925  0.652601   \n",
       "\n",
       "            CDKN2A  SID_score        ds  \n",
       "hayflick  0.520346   0.981345  0.999750  \n",
       "hca       0.469117   0.969627  0.999378  \n",
       "notch     0.750020   0.964888  0.985392  \n",
       "oskm      0.499576   0.935381  0.970551  \n",
       "huvec     0.769341   0.911363  0.932809  \n",
       "\n",
       "[5 rows x 22 columns]"
      ]
     },
     "execution_count": 8,
     "metadata": {},
     "output_type": "execute_result"
    }
   ],
   "source": [
    "scores = ['ssGSEA_CoreScence', 'ssGSEA_senmayo',\n",
    "       'ssGSEA_cellAge', 'ssGSEA_geneAge', 'ssGSEA_csgene', 'ssGSEA_cellsig',\n",
    "       'ssGSEA_quest', 'ssGSEA_sasp', 'ssGSEA_trans', 'AUCell_CoreScence',\n",
    "       'AUCell_senmayo', 'AUCell_cellAge', 'AUCell_geneAge', 'AUCell_csgene',\n",
    "       'AUCell_cellsig', 'AUCell_quest', 'AUCell_sasp', 'AUCell_trans',\n",
    "       'CDKN1A', 'CDKN2A', 'SID_score', \"ds\"]\n",
    "results = []\n",
    "for name, adata in adata_dict.items():\n",
    "    adata.obs.to_csv(f\"./data/in_vitro/benchmark/{name}_scored_meta.csv\", index=True)\n",
    "    aucs = []\n",
    "    for col in scores:\n",
    "        if col in adata.obs.columns:\n",
    "            adata.obs[col] = adata.obs[col].fillna(0)\n",
    "            auroc = roc_auc_score(adata.obs[\"SnC\"].values, adata.obs[col].values)\n",
    "        else:\n",
    "            auroc = np.nan\n",
    "        aucs.append(auroc)\n",
    "    results.append(aucs)\n",
    "results = pd.DataFrame(results)\n",
    "results.index = list(adata_dict.keys())\n",
    "results.columns = scores\n",
    "results.to_csv(\"./data/in_vitro/benchmark/benchmark_results.csv\", index=True)\n",
    "results"
   ]
  },
  {
   "cell_type": "code",
   "execution_count": 11,
   "id": "8a3357bc-03db-4fa6-8c2b-d591736fdab3",
   "metadata": {},
   "outputs": [
    {
     "data": {
      "text/html": [
       "<div>\n",
       "<style scoped>\n",
       "    .dataframe tbody tr th:only-of-type {\n",
       "        vertical-align: middle;\n",
       "    }\n",
       "\n",
       "    .dataframe tbody tr th {\n",
       "        vertical-align: top;\n",
       "    }\n",
       "\n",
       "    .dataframe thead th {\n",
       "        text-align: right;\n",
       "    }\n",
       "</style>\n",
       "<table border=\"1\" class=\"dataframe\">\n",
       "  <thead>\n",
       "    <tr style=\"text-align: right;\">\n",
       "      <th></th>\n",
       "      <th>CDKN1A_positive</th>\n",
       "      <th>CDKN2A_positive</th>\n",
       "      <th>senmayo_binary</th>\n",
       "      <th>SID_score</th>\n",
       "      <th>binary</th>\n",
       "    </tr>\n",
       "  </thead>\n",
       "  <tbody>\n",
       "    <tr>\n",
       "      <th>hayflick</th>\n",
       "      <td>0.329383</td>\n",
       "      <td>0.329383</td>\n",
       "      <td>0.821889</td>\n",
       "      <td>0.927152</td>\n",
       "      <td>0.993726</td>\n",
       "    </tr>\n",
       "    <tr>\n",
       "      <th>hca</th>\n",
       "      <td>0.500000</td>\n",
       "      <td>0.500000</td>\n",
       "      <td>0.486076</td>\n",
       "      <td>0.779747</td>\n",
       "      <td>0.994937</td>\n",
       "    </tr>\n",
       "    <tr>\n",
       "      <th>notch</th>\n",
       "      <td>0.477041</td>\n",
       "      <td>0.477041</td>\n",
       "      <td>0.640306</td>\n",
       "      <td>0.869898</td>\n",
       "      <td>0.920918</td>\n",
       "    </tr>\n",
       "    <tr>\n",
       "      <th>oskm</th>\n",
       "      <td>0.404040</td>\n",
       "      <td>0.404040</td>\n",
       "      <td>0.545455</td>\n",
       "      <td>0.893939</td>\n",
       "      <td>0.919192</td>\n",
       "    </tr>\n",
       "    <tr>\n",
       "      <th>huvec</th>\n",
       "      <td>0.389555</td>\n",
       "      <td>0.389555</td>\n",
       "      <td>0.673620</td>\n",
       "      <td>0.824234</td>\n",
       "      <td>0.867214</td>\n",
       "    </tr>\n",
       "  </tbody>\n",
       "</table>\n",
       "</div>"
      ],
      "text/plain": [
       "          CDKN1A_positive  CDKN2A_positive  senmayo_binary  SID_score  \\\n",
       "hayflick         0.329383         0.329383        0.821889   0.927152   \n",
       "hca              0.500000         0.500000        0.486076   0.779747   \n",
       "notch            0.477041         0.477041        0.640306   0.869898   \n",
       "oskm             0.404040         0.404040        0.545455   0.893939   \n",
       "huvec            0.389555         0.389555        0.673620   0.824234   \n",
       "\n",
       "            binary  \n",
       "hayflick  0.993726  \n",
       "hca       0.994937  \n",
       "notch     0.920918  \n",
       "oskm      0.919192  \n",
       "huvec     0.867214  "
      ]
     },
     "execution_count": 11,
     "metadata": {},
     "output_type": "execute_result"
    }
   ],
   "source": [
    "binary = [\"CDKN1A_positive\", \"CDKN2A_positive\", \"senmayo_binary\", \"SID_score\", \"binary\"]\n",
    "results = []\n",
    "f1_results = []\n",
    "for name, adata in adata_dict.items():\n",
    "    accs = []\n",
    "    f1s = []\n",
    "    for col in binary:\n",
    "        if col in adata.obs.columns:\n",
    "            adata.obs[col] = adata.obs[col].fillna(0)\n",
    "            if col != \"SID_score\":\n",
    "                predictions = (adata.obs[col].values).astype(int)\n",
    "            else:\n",
    "                predictions = (adata.obs[col].values > 0.5).astype(int)\n",
    "            accuracy = accuracy_score(adata.obs[\"SnC\"].values, predictions)\n",
    "            f1 = f1_score(adata.obs[\"SnC\"].values, predictions)\n",
    "        else:\n",
    "            accuracy = np.nan\n",
    "            f1 = np.nan\n",
    "        accs.append(accuracy)\n",
    "        f1s.append(f1)\n",
    "    results.append(accs)\n",
    "    f1_results.append(f1s)\n",
    "results = pd.DataFrame(results)\n",
    "results.index = list(adata_dict.keys())\n",
    "results.columns = binary\n",
    "\n",
    "f1_df = pd.DataFrame(f1_results)\n",
    "f1_df.index = list(adata_dict.keys())\n",
    "f1_df.columns = binary\n",
    "\n",
    "results.to_csv(\"./data/in_vitro/benchmark/benchmark_acc_results.csv\", index=True)\n",
    "f1_df.to_csv(\"./data/in_vitro/benchmark/benchmark_f1_results.csv\", index=True)\n",
    "results"
   ]
  },
  {
   "cell_type": "markdown",
   "id": "a76c0526-998b-4d2c-9cd0-5f83f12fae24",
   "metadata": {},
   "source": [
    "### Try"
   ]
  },
  {
   "cell_type": "code",
   "execution_count": null,
   "id": "b5862f0b-7b39-4388-96bb-64862d5a7af8",
   "metadata": {},
   "outputs": [],
   "source": [
    "# adata = notch.copy()\n",
    "adata = sc.read_h5ad(\"./data/in_vitro/sc_notch/notch.h5ad\")\n",
    "sc.pp.normalize_total(adata)\n",
    "sc.pp.log1p(adata)\n",
    "sc.pp.highly_variable_genes(adata)"
   ]
  },
  {
   "cell_type": "code",
   "execution_count": null,
   "id": "c0f457b9-db2d-4832-9e54-6f44ca3900e4",
   "metadata": {},
   "outputs": [],
   "source": [
    "adata.var"
   ]
  },
  {
   "cell_type": "code",
   "execution_count": null,
   "id": "87700cc4-318e-428d-a582-ebfcea987846",
   "metadata": {},
   "outputs": [],
   "source": [
    "plt.hist(adata.var[\"dispersions\"])\n",
    "plt.show()\n",
    "adata.var[\"highly_variable\"].value_counts()"
   ]
  },
  {
   "cell_type": "code",
   "execution_count": null,
   "id": "51ed361c-5903-45e1-bd60-b4b1dad51987",
   "metadata": {},
   "outputs": [],
   "source": []
  }
 ],
 "metadata": {
  "kernelspec": {
   "display_name": "Python 3 (ipykernel)",
   "language": "python",
   "name": "python3"
  },
  "language_info": {
   "codemirror_mode": {
    "name": "ipython",
    "version": 3
   },
   "file_extension": ".py",
   "mimetype": "text/x-python",
   "name": "python",
   "nbconvert_exporter": "python",
   "pygments_lexer": "ipython3",
   "version": "3.8.5"
  }
 },
 "nbformat": 4,
 "nbformat_minor": 5
}
