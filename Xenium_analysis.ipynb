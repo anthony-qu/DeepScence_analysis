{
 "cells": [
  {
   "cell_type": "code",
   "execution_count": 1,
   "id": "0b7ab5c5-cc96-4633-b735-7680156869f6",
   "metadata": {},
   "outputs": [
    {
     "name": "stdout",
     "output_type": "stream",
     "text": [
      "我困得要死\n"
     ]
    }
   ],
   "source": [
    "import pandas as pd\n",
    "import numpy as np\n",
    "import scanpy as sc\n",
    "import matplotlib.pyplot as plt\n",
    "import os\n",
    "import seaborn as sns\n",
    "from DeepScence.api import DeepScence\n",
    "from tqdm import tqdm\n",
    "import random\n",
    "\n",
    "import squidpy as sq\n",
    "import spatialdata as sd\n",
    "# from spatialdata_io import xenium\n",
    "\n",
    "from SenCID.api import SenCID\n",
    "from SenCID.Pred import GetFeatures\n",
    "from dca.api import dca\n",
    "from sklearn.metrics import roc_curve, auc, roc_auc_score\n",
    "\n",
    "os.chdir(b'/Users/lele/Library/Mobile Documents/com~apple~CloudDocs/Research/Aging')"
   ]
  },
  {
   "cell_type": "markdown",
   "id": "d8611584-22e9-44f8-a265-cc69e2ef01d5",
   "metadata": {},
   "source": [
    "## sensitivity analysis"
   ]
  },
  {
   "cell_type": "code",
   "execution_count": 9,
   "id": "a7ac97b8-9539-46bf-9db5-007107cd00cc",
   "metadata": {},
   "outputs": [],
   "source": [
    "adata = sc.read_h5ad(\"./data/in_vitro/scored_h5ad/subsets/hayflick_dca.h5ad\")\n",
    "adata.X = adata.raw.X\n",
    "panel = pd.read_csv('./data/Xenium/Xenium_hMulti_v1_metadata.csv')\n",
    "panel = np.intersect1d(panel[\"Gene\"].values, adata.var_names)\n",
    "xdata = adata[:,panel].copy()\n",
    "\n",
    "with open(\"./code/SenCID/SenCID/resource/seneset.txt\", \"r\") as f:\n",
    "    CID_features = [line.strip() for line in f]\n",
    "core_gs = pd.read_csv(\"./data/coreGS_v2.csv\", index_col=0)\n",
    "core_gs = list(core_gs[core_gs[\"occurrence\"]>=5].index)\n"
   ]
  },
  {
   "cell_type": "markdown",
   "id": "a281f706-0be2-491a-8914-8576155ec317",
   "metadata": {
    "jp-MarkdownHeadingCollapsed": true
   },
   "source": [
    "#### Check library sizes"
   ]
  },
  {
   "cell_type": "code",
   "execution_count": null,
   "id": "10431302-dcc2-4e26-a68b-009658a001b4",
   "metadata": {},
   "outputs": [],
   "source": [
    "xdata.obs['n_counts'] = xdata.X.sum(axis=1)\n",
    "plt.hist(xdata.obs[\"n_counts\"], bins=100)\n",
    "plt.title(\"simulated n_counts\")\n",
    "plt.show()"
   ]
  },
  {
   "cell_type": "markdown",
   "id": "c86df428-bbc0-4cba-86fb-327803353132",
   "metadata": {},
   "source": [
    "#### Analysis"
   ]
  },
  {
   "cell_type": "code",
   "execution_count": 10,
   "id": "f0f98b20-fd14-4aba-b303-846ad529ac9e",
   "metadata": {
    "scrolled": true
   },
   "outputs": [
    {
     "name": "stdout",
     "output_type": "stream",
     "text": [
      "163\n",
      "163\n",
      "Scaling data...\n",
      "Loading models of SID1...\n",
      "Making predictions of SID1...\n",
      "Loading models of SID2...\n",
      "Making predictions of SID2...\n",
      "Loading models of SID3...\n",
      "Making predictions of SID3...\n",
      "Loading models of SID4...\n",
      "Making predictions of SID4...\n",
      "Loading models of SID5...\n",
      "Making predictions of SID5...\n",
      "Loading models of SID6...\n",
      "Making predictions of SID6...\n",
      "Loading Recommend model...\n"
     ]
    },
    {
     "name": "stderr",
     "output_type": "stream",
     "text": [
      "[2024-10-02 20:19] Input is preprocessed, preprocessed 163 genes and 2968 cells.\n"
     ]
    },
    {
     "name": "stdout",
     "output_type": "stream",
     "text": [
      "Finished. Giving SID scores and SID Recommendation...\n"
     ]
    },
    {
     "name": "stderr",
     "output_type": "stream",
     "text": [
      "[2024-10-02 20:19] Using 26 genes in the gene set for scoring\n",
      "[2024-10-02 20:19] Lambda provided, capturing scores in 2 neurons.\n",
      "[2024-10-02 20:19] Training on 2672 cells, validate on 296 cells.\n"
     ]
    },
    {
     "name": "stdout",
     "output_type": "stream",
     "text": [
      "171\n",
      "183\n",
      "Scaling data...\n",
      "Loading models of SID1...\n",
      "Making predictions of SID1...\n",
      "Loading models of SID2...\n",
      "Making predictions of SID2...\n",
      "Loading models of SID3...\n",
      "Making predictions of SID3...\n",
      "Loading models of SID4...\n",
      "Making predictions of SID4...\n",
      "Loading models of SID5...\n",
      "Making predictions of SID5...\n",
      "Loading models of SID6...\n",
      "Making predictions of SID6...\n",
      "Loading Recommend model...\n"
     ]
    },
    {
     "name": "stderr",
     "output_type": "stream",
     "text": [
      "[2024-10-02 20:19] Input is preprocessed, preprocessed 171 genes and 2968 cells.\n",
      "[2024-10-02 20:19] Using 34 genes in the gene set for scoring\n",
      "[2024-10-02 20:19] Lambda provided, capturing scores in 2 neurons.\n",
      "[2024-10-02 20:19] Training on 2672 cells, validate on 296 cells.\n"
     ]
    },
    {
     "name": "stdout",
     "output_type": "stream",
     "text": [
      "Finished. Giving SID scores and SID Recommendation...\n",
      "171\n",
      "203\n",
      "Scaling data...\n",
      "Loading models of SID1...\n",
      "Making predictions of SID1...\n",
      "Loading models of SID2...\n",
      "Making predictions of SID2...\n",
      "Loading models of SID3...\n",
      "Making predictions of SID3...\n",
      "Loading models of SID4...\n",
      "Making predictions of SID4...\n",
      "Loading models of SID5...\n",
      "Making predictions of SID5...\n",
      "Loading models of SID6...\n",
      "Making predictions of SID6...\n",
      "Loading Recommend model...\n"
     ]
    },
    {
     "name": "stderr",
     "output_type": "stream",
     "text": [
      "[2024-10-02 20:20] Input is preprocessed, preprocessed 171 genes and 2968 cells.\n",
      "[2024-10-02 20:20] Using 34 genes in the gene set for scoring\n",
      "[2024-10-02 20:20] Lambda provided, capturing scores in 2 neurons.\n",
      "[2024-10-02 20:20] Training on 2672 cells, validate on 296 cells.\n"
     ]
    },
    {
     "name": "stdout",
     "output_type": "stream",
     "text": [
      "Finished. Giving SID scores and SID Recommendation...\n",
      "171\n",
      "223\n",
      "Scaling data...\n",
      "Loading models of SID1...\n",
      "Making predictions of SID1...\n",
      "Loading models of SID2...\n",
      "Making predictions of SID2...\n",
      "Loading models of SID3...\n",
      "Making predictions of SID3...\n",
      "Loading models of SID4...\n",
      "Making predictions of SID4...\n",
      "Loading models of SID5...\n",
      "Making predictions of SID5...\n",
      "Loading models of SID6...\n",
      "Making predictions of SID6...\n",
      "Loading Recommend model...\n"
     ]
    },
    {
     "name": "stderr",
     "output_type": "stream",
     "text": [
      "[2024-10-02 20:20] Input is preprocessed, preprocessed 171 genes and 2968 cells.\n",
      "[2024-10-02 20:20] Using 34 genes in the gene set for scoring\n",
      "[2024-10-02 20:20] Lambda provided, capturing scores in 2 neurons.\n",
      "[2024-10-02 20:20] Training on 2672 cells, validate on 296 cells.\n"
     ]
    },
    {
     "name": "stdout",
     "output_type": "stream",
     "text": [
      "Finished. Giving SID scores and SID Recommendation...\n",
      "171\n",
      "243\n",
      "Scaling data...\n",
      "Loading models of SID1...\n",
      "Making predictions of SID1...\n",
      "Loading models of SID2...\n",
      "Making predictions of SID2...\n",
      "Loading models of SID3...\n",
      "Making predictions of SID3...\n",
      "Loading models of SID4...\n",
      "Making predictions of SID4...\n",
      "Loading models of SID5...\n",
      "Making predictions of SID5...\n",
      "Loading models of SID6...\n",
      "Making predictions of SID6...\n",
      "Loading Recommend model...\n"
     ]
    },
    {
     "name": "stderr",
     "output_type": "stream",
     "text": [
      "[2024-10-02 20:20] Input is preprocessed, preprocessed 171 genes and 2968 cells.\n",
      "[2024-10-02 20:20] Using 34 genes in the gene set for scoring\n",
      "[2024-10-02 20:20] Lambda provided, capturing scores in 2 neurons.\n",
      "[2024-10-02 20:20] Training on 2672 cells, validate on 296 cells.\n"
     ]
    },
    {
     "name": "stdout",
     "output_type": "stream",
     "text": [
      "Finished. Giving SID scores and SID Recommendation...\n",
      "163\n",
      "163\n",
      "Scaling data...\n",
      "Loading models of SID1...\n",
      "Making predictions of SID1...\n",
      "Loading models of SID2...\n",
      "Making predictions of SID2...\n",
      "Loading models of SID3...\n",
      "Making predictions of SID3...\n",
      "Loading models of SID4...\n",
      "Making predictions of SID4...\n",
      "Loading models of SID5...\n",
      "Making predictions of SID5...\n",
      "Loading models of SID6...\n",
      "Making predictions of SID6...\n",
      "Loading Recommend model...\n"
     ]
    },
    {
     "name": "stderr",
     "output_type": "stream",
     "text": [
      "[2024-10-02 20:21] Input is preprocessed, preprocessed 163 genes and 2968 cells.\n",
      "[2024-10-02 20:21] Using 26 genes in the gene set for scoring\n",
      "[2024-10-02 20:21] Lambda provided, capturing scores in 2 neurons.\n",
      "[2024-10-02 20:21] Training on 2672 cells, validate on 296 cells.\n"
     ]
    },
    {
     "name": "stdout",
     "output_type": "stream",
     "text": [
      "Finished. Giving SID scores and SID Recommendation...\n",
      "171\n",
      "183\n",
      "Scaling data...\n",
      "Loading models of SID1...\n",
      "Making predictions of SID1...\n",
      "Loading models of SID2...\n",
      "Making predictions of SID2...\n",
      "Loading models of SID3...\n",
      "Making predictions of SID3...\n",
      "Loading models of SID4...\n",
      "Making predictions of SID4...\n",
      "Loading models of SID5...\n",
      "Making predictions of SID5...\n",
      "Loading models of SID6...\n",
      "Making predictions of SID6...\n",
      "Loading Recommend model...\n"
     ]
    },
    {
     "name": "stderr",
     "output_type": "stream",
     "text": [
      "[2024-10-02 20:21] Input is preprocessed, preprocessed 171 genes and 2968 cells.\n",
      "[2024-10-02 20:21] Using 34 genes in the gene set for scoring\n",
      "[2024-10-02 20:21] Lambda provided, capturing scores in 2 neurons.\n",
      "[2024-10-02 20:21] Training on 2672 cells, validate on 296 cells.\n"
     ]
    },
    {
     "name": "stdout",
     "output_type": "stream",
     "text": [
      "Finished. Giving SID scores and SID Recommendation...\n",
      "171\n",
      "203\n",
      "Scaling data...\n",
      "Loading models of SID1...\n",
      "Making predictions of SID1...\n",
      "Loading models of SID2...\n",
      "Making predictions of SID2...\n",
      "Loading models of SID3...\n",
      "Making predictions of SID3...\n",
      "Loading models of SID4...\n",
      "Making predictions of SID4...\n",
      "Loading models of SID5...\n",
      "Making predictions of SID5...\n",
      "Loading models of SID6...\n",
      "Making predictions of SID6...\n",
      "Loading Recommend model...\n"
     ]
    },
    {
     "name": "stderr",
     "output_type": "stream",
     "text": [
      "[2024-10-02 20:21] Input is preprocessed, preprocessed 171 genes and 2968 cells.\n",
      "[2024-10-02 20:21] Using 34 genes in the gene set for scoring\n",
      "[2024-10-02 20:21] Lambda provided, capturing scores in 2 neurons.\n",
      "[2024-10-02 20:21] Training on 2672 cells, validate on 296 cells.\n"
     ]
    },
    {
     "name": "stdout",
     "output_type": "stream",
     "text": [
      "Finished. Giving SID scores and SID Recommendation...\n",
      "171\n",
      "223\n",
      "Scaling data...\n",
      "Loading models of SID1...\n",
      "Making predictions of SID1...\n",
      "Loading models of SID2...\n",
      "Making predictions of SID2...\n",
      "Loading models of SID3...\n",
      "Making predictions of SID3...\n",
      "Loading models of SID4...\n",
      "Making predictions of SID4...\n",
      "Loading models of SID5...\n",
      "Making predictions of SID5...\n",
      "Loading models of SID6...\n",
      "Making predictions of SID6...\n",
      "Loading Recommend model...\n"
     ]
    },
    {
     "name": "stderr",
     "output_type": "stream",
     "text": [
      "[2024-10-02 20:21] Input is preprocessed, preprocessed 171 genes and 2968 cells.\n",
      "[2024-10-02 20:21] Using 34 genes in the gene set for scoring\n",
      "[2024-10-02 20:21] Lambda provided, capturing scores in 2 neurons.\n",
      "[2024-10-02 20:21] Training on 2672 cells, validate on 296 cells.\n"
     ]
    },
    {
     "name": "stdout",
     "output_type": "stream",
     "text": [
      "Finished. Giving SID scores and SID Recommendation...\n",
      "171\n",
      "243\n",
      "Scaling data...\n",
      "Loading models of SID1...\n",
      "Making predictions of SID1...\n",
      "Loading models of SID2...\n",
      "Making predictions of SID2...\n",
      "Loading models of SID3...\n",
      "Making predictions of SID3...\n",
      "Loading models of SID4...\n",
      "Making predictions of SID4...\n",
      "Loading models of SID5...\n",
      "Making predictions of SID5...\n",
      "Loading models of SID6...\n",
      "Making predictions of SID6...\n",
      "Loading Recommend model...\n"
     ]
    },
    {
     "name": "stderr",
     "output_type": "stream",
     "text": [
      "[2024-10-02 20:22] Input is preprocessed, preprocessed 171 genes and 2968 cells.\n",
      "[2024-10-02 20:22] Using 34 genes in the gene set for scoring\n",
      "[2024-10-02 20:22] Lambda provided, capturing scores in 2 neurons.\n",
      "[2024-10-02 20:22] Training on 2672 cells, validate on 296 cells.\n"
     ]
    },
    {
     "name": "stdout",
     "output_type": "stream",
     "text": [
      "Finished. Giving SID scores and SID Recommendation...\n",
      "163\n",
      "163\n",
      "Scaling data...\n",
      "Loading models of SID1...\n",
      "Making predictions of SID1...\n",
      "Loading models of SID2...\n",
      "Making predictions of SID2...\n",
      "Loading models of SID3...\n",
      "Making predictions of SID3...\n",
      "Loading models of SID4...\n",
      "Making predictions of SID4...\n",
      "Loading models of SID5...\n",
      "Making predictions of SID5...\n",
      "Loading models of SID6...\n",
      "Making predictions of SID6...\n",
      "Loading Recommend model...\n"
     ]
    },
    {
     "name": "stderr",
     "output_type": "stream",
     "text": [
      "[2024-10-02 20:22] Input is preprocessed, preprocessed 163 genes and 2968 cells.\n",
      "[2024-10-02 20:22] Using 26 genes in the gene set for scoring\n",
      "[2024-10-02 20:22] Lambda provided, capturing scores in 2 neurons.\n",
      "[2024-10-02 20:22] Training on 2672 cells, validate on 296 cells.\n"
     ]
    },
    {
     "name": "stdout",
     "output_type": "stream",
     "text": [
      "Finished. Giving SID scores and SID Recommendation...\n",
      "171\n",
      "183\n",
      "Scaling data...\n",
      "Loading models of SID1...\n",
      "Making predictions of SID1...\n",
      "Loading models of SID2...\n",
      "Making predictions of SID2...\n",
      "Loading models of SID3...\n",
      "Making predictions of SID3...\n",
      "Loading models of SID4...\n",
      "Making predictions of SID4...\n",
      "Loading models of SID5...\n",
      "Making predictions of SID5...\n",
      "Loading models of SID6...\n",
      "Making predictions of SID6...\n",
      "Loading Recommend model...\n"
     ]
    },
    {
     "name": "stderr",
     "output_type": "stream",
     "text": [
      "[2024-10-02 20:22] Input is preprocessed, preprocessed 171 genes and 2968 cells.\n",
      "[2024-10-02 20:22] Using 34 genes in the gene set for scoring\n",
      "[2024-10-02 20:22] Lambda provided, capturing scores in 2 neurons.\n",
      "[2024-10-02 20:22] Training on 2672 cells, validate on 296 cells.\n"
     ]
    },
    {
     "name": "stdout",
     "output_type": "stream",
     "text": [
      "Finished. Giving SID scores and SID Recommendation...\n",
      "171\n",
      "203\n",
      "Scaling data...\n",
      "Loading models of SID1...\n",
      "Making predictions of SID1...\n",
      "Loading models of SID2...\n",
      "Making predictions of SID2...\n",
      "Loading models of SID3...\n",
      "Making predictions of SID3...\n",
      "Loading models of SID4...\n",
      "Making predictions of SID4...\n",
      "Loading models of SID5...\n",
      "Making predictions of SID5...\n",
      "Loading models of SID6...\n",
      "Making predictions of SID6...\n",
      "Loading Recommend model...\n"
     ]
    },
    {
     "name": "stderr",
     "output_type": "stream",
     "text": [
      "[2024-10-02 20:23] Input is preprocessed, preprocessed 171 genes and 2968 cells.\n",
      "[2024-10-02 20:23] Using 34 genes in the gene set for scoring\n",
      "[2024-10-02 20:23] Lambda provided, capturing scores in 2 neurons.\n",
      "[2024-10-02 20:23] Training on 2672 cells, validate on 296 cells.\n"
     ]
    },
    {
     "name": "stdout",
     "output_type": "stream",
     "text": [
      "Finished. Giving SID scores and SID Recommendation...\n",
      "171\n",
      "223\n",
      "Scaling data...\n",
      "Loading models of SID1...\n",
      "Making predictions of SID1...\n",
      "Loading models of SID2...\n",
      "Making predictions of SID2...\n",
      "Loading models of SID3...\n",
      "Making predictions of SID3...\n",
      "Loading models of SID4...\n",
      "Making predictions of SID4...\n",
      "Loading models of SID5...\n",
      "Making predictions of SID5...\n",
      "Loading models of SID6...\n",
      "Making predictions of SID6...\n",
      "Loading Recommend model...\n"
     ]
    },
    {
     "name": "stderr",
     "output_type": "stream",
     "text": [
      "[2024-10-02 20:23] Input is preprocessed, preprocessed 171 genes and 2968 cells.\n",
      "[2024-10-02 20:23] Using 34 genes in the gene set for scoring\n",
      "[2024-10-02 20:23] Lambda provided, capturing scores in 2 neurons.\n",
      "[2024-10-02 20:23] Training on 2672 cells, validate on 296 cells.\n"
     ]
    },
    {
     "name": "stdout",
     "output_type": "stream",
     "text": [
      "Finished. Giving SID scores and SID Recommendation...\n",
      "171\n",
      "243\n",
      "Scaling data...\n",
      "Loading models of SID1...\n",
      "Making predictions of SID1...\n",
      "Loading models of SID2...\n",
      "Making predictions of SID2...\n",
      "Loading models of SID3...\n",
      "Making predictions of SID3...\n",
      "Loading models of SID4...\n",
      "Making predictions of SID4...\n",
      "Loading models of SID5...\n",
      "Making predictions of SID5...\n",
      "Loading models of SID6...\n",
      "Making predictions of SID6...\n",
      "Loading Recommend model...\n"
     ]
    },
    {
     "name": "stderr",
     "output_type": "stream",
     "text": [
      "[2024-10-02 20:23] Input is preprocessed, preprocessed 171 genes and 2968 cells.\n",
      "[2024-10-02 20:23] Using 34 genes in the gene set for scoring\n",
      "[2024-10-02 20:23] Lambda provided, capturing scores in 2 neurons.\n",
      "[2024-10-02 20:23] Training on 2672 cells, validate on 296 cells.\n"
     ]
    },
    {
     "name": "stdout",
     "output_type": "stream",
     "text": [
      "Finished. Giving SID scores and SID Recommendation...\n",
      "163\n",
      "163\n",
      "Scaling data...\n",
      "Loading models of SID1...\n",
      "Making predictions of SID1...\n",
      "Loading models of SID2...\n",
      "Making predictions of SID2...\n",
      "Loading models of SID3...\n",
      "Making predictions of SID3...\n",
      "Loading models of SID4...\n",
      "Making predictions of SID4...\n",
      "Loading models of SID5...\n",
      "Making predictions of SID5...\n",
      "Loading models of SID6...\n",
      "Making predictions of SID6...\n",
      "Loading Recommend model...\n"
     ]
    },
    {
     "name": "stderr",
     "output_type": "stream",
     "text": [
      "[2024-10-02 20:23] Input is preprocessed, preprocessed 163 genes and 2968 cells.\n",
      "[2024-10-02 20:23] Using 26 genes in the gene set for scoring\n",
      "[2024-10-02 20:23] Lambda provided, capturing scores in 2 neurons.\n",
      "[2024-10-02 20:23] Training on 2672 cells, validate on 296 cells.\n"
     ]
    },
    {
     "name": "stdout",
     "output_type": "stream",
     "text": [
      "Finished. Giving SID scores and SID Recommendation...\n",
      "171\n",
      "183\n",
      "Scaling data...\n",
      "Loading models of SID1...\n",
      "Making predictions of SID1...\n",
      "Loading models of SID2...\n",
      "Making predictions of SID2...\n",
      "Loading models of SID3...\n",
      "Making predictions of SID3...\n",
      "Loading models of SID4...\n",
      "Making predictions of SID4...\n",
      "Loading models of SID5...\n",
      "Making predictions of SID5...\n",
      "Loading models of SID6...\n",
      "Making predictions of SID6...\n",
      "Loading Recommend model...\n"
     ]
    },
    {
     "name": "stderr",
     "output_type": "stream",
     "text": [
      "[2024-10-02 20:24] Input is preprocessed, preprocessed 171 genes and 2968 cells.\n",
      "[2024-10-02 20:24] Using 34 genes in the gene set for scoring\n",
      "[2024-10-02 20:24] Lambda provided, capturing scores in 2 neurons.\n",
      "[2024-10-02 20:24] Training on 2672 cells, validate on 296 cells.\n"
     ]
    },
    {
     "name": "stdout",
     "output_type": "stream",
     "text": [
      "Finished. Giving SID scores and SID Recommendation...\n",
      "171\n",
      "203\n",
      "Scaling data...\n",
      "Loading models of SID1...\n",
      "Making predictions of SID1...\n",
      "Loading models of SID2...\n",
      "Making predictions of SID2...\n",
      "Loading models of SID3...\n",
      "Making predictions of SID3...\n",
      "Loading models of SID4...\n",
      "Making predictions of SID4...\n",
      "Loading models of SID5...\n",
      "Making predictions of SID5...\n",
      "Loading models of SID6...\n",
      "Making predictions of SID6...\n",
      "Loading Recommend model...\n"
     ]
    },
    {
     "name": "stderr",
     "output_type": "stream",
     "text": [
      "[2024-10-02 20:24] Input is preprocessed, preprocessed 171 genes and 2968 cells.\n",
      "[2024-10-02 20:24] Using 34 genes in the gene set for scoring\n",
      "[2024-10-02 20:24] Lambda provided, capturing scores in 2 neurons.\n",
      "[2024-10-02 20:24] Training on 2672 cells, validate on 296 cells.\n"
     ]
    },
    {
     "name": "stdout",
     "output_type": "stream",
     "text": [
      "Finished. Giving SID scores and SID Recommendation...\n",
      "171\n",
      "223\n",
      "Scaling data...\n",
      "Loading models of SID1...\n",
      "Making predictions of SID1...\n",
      "Loading models of SID2...\n",
      "Making predictions of SID2...\n",
      "Loading models of SID3...\n",
      "Making predictions of SID3...\n",
      "Loading models of SID4...\n",
      "Making predictions of SID4...\n",
      "Loading models of SID5...\n",
      "Making predictions of SID5...\n",
      "Loading models of SID6...\n",
      "Making predictions of SID6...\n",
      "Loading Recommend model...\n"
     ]
    },
    {
     "name": "stderr",
     "output_type": "stream",
     "text": [
      "[2024-10-02 20:24] Input is preprocessed, preprocessed 171 genes and 2968 cells.\n",
      "[2024-10-02 20:24] Using 34 genes in the gene set for scoring\n",
      "[2024-10-02 20:24] Lambda provided, capturing scores in 2 neurons.\n",
      "[2024-10-02 20:24] Training on 2672 cells, validate on 296 cells.\n"
     ]
    },
    {
     "name": "stdout",
     "output_type": "stream",
     "text": [
      "Finished. Giving SID scores and SID Recommendation...\n",
      "171\n",
      "243\n",
      "Scaling data...\n",
      "Loading models of SID1...\n",
      "Making predictions of SID1...\n",
      "Loading models of SID2...\n",
      "Making predictions of SID2...\n",
      "Loading models of SID3...\n",
      "Making predictions of SID3...\n",
      "Loading models of SID4...\n",
      "Making predictions of SID4...\n",
      "Loading models of SID5...\n",
      "Making predictions of SID5...\n",
      "Loading models of SID6...\n",
      "Making predictions of SID6...\n",
      "Loading Recommend model...\n"
     ]
    },
    {
     "name": "stderr",
     "output_type": "stream",
     "text": [
      "[2024-10-02 20:24] Input is preprocessed, preprocessed 171 genes and 2968 cells.\n",
      "[2024-10-02 20:24] Using 34 genes in the gene set for scoring\n",
      "[2024-10-02 20:24] Lambda provided, capturing scores in 2 neurons.\n",
      "[2024-10-02 20:24] Training on 2672 cells, validate on 296 cells.\n"
     ]
    },
    {
     "name": "stdout",
     "output_type": "stream",
     "text": [
      "Finished. Giving SID scores and SID Recommendation...\n",
      "163\n",
      "163\n",
      "Scaling data...\n",
      "Loading models of SID1...\n",
      "Making predictions of SID1...\n",
      "Loading models of SID2...\n",
      "Making predictions of SID2...\n",
      "Loading models of SID3...\n",
      "Making predictions of SID3...\n",
      "Loading models of SID4...\n",
      "Making predictions of SID4...\n",
      "Loading models of SID5...\n",
      "Making predictions of SID5...\n",
      "Loading models of SID6...\n",
      "Making predictions of SID6...\n",
      "Loading Recommend model...\n"
     ]
    },
    {
     "name": "stderr",
     "output_type": "stream",
     "text": [
      "[2024-10-02 20:25] Input is preprocessed, preprocessed 163 genes and 2968 cells.\n",
      "[2024-10-02 20:25] Using 26 genes in the gene set for scoring\n",
      "[2024-10-02 20:25] Lambda provided, capturing scores in 2 neurons.\n",
      "[2024-10-02 20:25] Training on 2672 cells, validate on 296 cells.\n"
     ]
    },
    {
     "name": "stdout",
     "output_type": "stream",
     "text": [
      "Finished. Giving SID scores and SID Recommendation...\n",
      "171\n",
      "183\n",
      "Scaling data...\n",
      "Loading models of SID1...\n",
      "Making predictions of SID1...\n",
      "Loading models of SID2...\n",
      "Making predictions of SID2...\n",
      "Loading models of SID3...\n",
      "Making predictions of SID3...\n",
      "Loading models of SID4...\n",
      "Making predictions of SID4...\n",
      "Loading models of SID5...\n",
      "Making predictions of SID5...\n",
      "Loading models of SID6...\n",
      "Making predictions of SID6...\n",
      "Loading Recommend model...\n"
     ]
    },
    {
     "name": "stderr",
     "output_type": "stream",
     "text": [
      "[2024-10-02 20:25] Input is preprocessed, preprocessed 171 genes and 2968 cells.\n",
      "[2024-10-02 20:25] Using 34 genes in the gene set for scoring\n",
      "[2024-10-02 20:25] Lambda provided, capturing scores in 2 neurons.\n",
      "[2024-10-02 20:25] Training on 2672 cells, validate on 296 cells.\n"
     ]
    },
    {
     "name": "stdout",
     "output_type": "stream",
     "text": [
      "Finished. Giving SID scores and SID Recommendation...\n",
      "171\n",
      "203\n",
      "Scaling data...\n",
      "Loading models of SID1...\n",
      "Making predictions of SID1...\n",
      "Loading models of SID2...\n",
      "Making predictions of SID2...\n",
      "Loading models of SID3...\n",
      "Making predictions of SID3...\n",
      "Loading models of SID4...\n",
      "Making predictions of SID4...\n",
      "Loading models of SID5...\n",
      "Making predictions of SID5...\n",
      "Loading models of SID6...\n",
      "Making predictions of SID6...\n",
      "Loading Recommend model...\n"
     ]
    },
    {
     "name": "stderr",
     "output_type": "stream",
     "text": [
      "[2024-10-02 20:25] Input is preprocessed, preprocessed 171 genes and 2968 cells.\n",
      "[2024-10-02 20:25] Using 34 genes in the gene set for scoring\n",
      "[2024-10-02 20:25] Lambda provided, capturing scores in 2 neurons.\n",
      "[2024-10-02 20:25] Training on 2672 cells, validate on 296 cells.\n"
     ]
    },
    {
     "name": "stdout",
     "output_type": "stream",
     "text": [
      "Finished. Giving SID scores and SID Recommendation...\n",
      "171\n",
      "223\n",
      "Scaling data...\n",
      "Loading models of SID1...\n",
      "Making predictions of SID1...\n",
      "Loading models of SID2...\n",
      "Making predictions of SID2...\n",
      "Loading models of SID3...\n",
      "Making predictions of SID3...\n",
      "Loading models of SID4...\n",
      "Making predictions of SID4...\n",
      "Loading models of SID5...\n",
      "Making predictions of SID5...\n",
      "Loading models of SID6...\n",
      "Making predictions of SID6...\n",
      "Loading Recommend model...\n"
     ]
    },
    {
     "name": "stderr",
     "output_type": "stream",
     "text": [
      "[2024-10-02 20:26] Input is preprocessed, preprocessed 171 genes and 2968 cells.\n",
      "[2024-10-02 20:26] Using 34 genes in the gene set for scoring\n",
      "[2024-10-02 20:26] Lambda provided, capturing scores in 2 neurons.\n",
      "[2024-10-02 20:26] Training on 2672 cells, validate on 296 cells.\n"
     ]
    },
    {
     "name": "stdout",
     "output_type": "stream",
     "text": [
      "Finished. Giving SID scores and SID Recommendation...\n",
      "171\n",
      "243\n",
      "Scaling data...\n",
      "Loading models of SID1...\n",
      "Making predictions of SID1...\n",
      "Loading models of SID2...\n",
      "Making predictions of SID2...\n",
      "Loading models of SID3...\n",
      "Making predictions of SID3...\n",
      "Loading models of SID4...\n",
      "Making predictions of SID4...\n",
      "Loading models of SID5...\n",
      "Making predictions of SID5...\n",
      "Loading models of SID6...\n",
      "Making predictions of SID6...\n",
      "Loading Recommend model...\n"
     ]
    },
    {
     "name": "stderr",
     "output_type": "stream",
     "text": [
      "[2024-10-02 20:26] Input is preprocessed, preprocessed 171 genes and 2968 cells.\n",
      "[2024-10-02 20:26] Using 34 genes in the gene set for scoring\n",
      "[2024-10-02 20:26] Lambda provided, capturing scores in 2 neurons.\n",
      "[2024-10-02 20:26] Training on 2672 cells, validate on 296 cells.\n"
     ]
    },
    {
     "name": "stdout",
     "output_type": "stream",
     "text": [
      "Finished. Giving SID scores and SID Recommendation...\n"
     ]
    }
   ],
   "source": [
    "final_results = []\n",
    "step_size = 20\n",
    "max_len = 100\n",
    "args = {\n",
    "    \"binarize\": False,\n",
    "    \"verbose\": False,\n",
    "    \"denoise\": False,\n",
    "    \"lambda_ortho\": 1,\n",
    "    \"random_state\": 0,\n",
    "}\n",
    "\n",
    "for run in range(5):\n",
    "    seed = random.randint(0, 1000)\n",
    "    random.seed(seed)\n",
    "    args[\"random_state\"] = seed\n",
    "    core_candidate = [gene for gene in core_gs if gene not in xdata.var_names and gene in adata.var_names]\n",
    "    CID_features_candidate = [gene for gene in CID_features if gene not in xdata.var_names and gene in adata.var_names]\n",
    "    \n",
    "    panel_DS = np.array(panel, copy=True)\n",
    "    panel_CID = np.array(panel, copy=True)\n",
    "    \n",
    "    \n",
    "    results = []\n",
    "    for i in range(0, max_len, step_size):\n",
    "        genes_added = i + step_size\n",
    "        \n",
    "        # For DS: Expand by order\n",
    "        num_genes_to_add_DS = min(step_size, len(core_candidate) - i)\n",
    "        if num_genes_to_add_DS > 0:\n",
    "            panel_DS = np.append(panel_DS, core_candidate[i:i+num_genes_to_add_DS])\n",
    "    \n",
    "        # For CID: Expand by randomly selecting genes\n",
    "        num_genes_to_add_CID = min(step_size, len(CID_features_candidate))\n",
    "        if num_genes_to_add_CID > 0:\n",
    "            selected_genes = random.sample(CID_features_candidate, num_genes_to_add_CID)\n",
    "            panel_CID = np.append(panel_CID, selected_genes)\n",
    "            CID_features_candidate = [gene for gene in CID_features_candidate if gene not in selected_genes]\n",
    "    \n",
    "        # Print the length of the panels after each loop iteration\n",
    "        print(len(panel_DS))\n",
    "        print(len(panel_CID))\n",
    "    \n",
    "        # construct simulated Xenium\n",
    "        xdata_DS = adata[:, panel_DS].copy()\n",
    "        xdata_CID = adata[:, panel_CID].copy()\n",
    "        sc.pp.filter_cells(xdata_CID, min_genes=1)\n",
    "        sc.pp.filter_cells(xdata_DS, min_genes=1)\n",
    "    \n",
    "        # run SenCID\n",
    "        # sc.pp.filter_genes(xdata_CID, min_cells=1)\n",
    "        # dca(xdata_CID, check_counts=False)\n",
    "        pred_dict, recSID, tmpfiles = SenCID(\n",
    "            adata=xdata_CID,\n",
    "            sidnums=[1, 2, 3, 4, 5, 6],\n",
    "            denoising=False,\n",
    "            binarize=True,\n",
    "            threads=1,\n",
    "            savetmp=True,\n",
    "        )\n",
    "        scores = []\n",
    "        for i in range(len(recSID)):\n",
    "            rec = recSID[\"RecSID\"].iloc[i]\n",
    "            score = pred_dict[rec][\"SID_Score\"].iloc[i]\n",
    "            scores.append(score)\n",
    "        scores_df = pd.DataFrame(index=xdata_CID.obs_names, columns=[\"score\"])\n",
    "        scores_df[\"score\"] = 0.5\n",
    "        calculated_scores_df = pd.DataFrame(scores, index=recSID.index, columns=[\"score\"])\n",
    "        scores_df.update(calculated_scores_df)\n",
    "        scores_CID = scores_df[\"score\"].values\n",
    "    \n",
    "        # run DeepScence\n",
    "        xdata_DS = DeepScence(xdata_DS, **args)\n",
    "    \n",
    "        # Calculate AUROC\n",
    "        auroc_DS = roc_auc_score(xdata_DS.obs[\"SnC\"].values, xdata_DS.obs[\"ds\"].values)\n",
    "        auroc_CID = roc_auc_score(xdata_CID.obs[\"SnC\"].values, scores_CID)\n",
    "        final_results.append({\"method\": \"SenCID\", \"genes_added\": genes_added, \"AUC\": auroc_CID})\n",
    "        final_results.append({\"method\": \"DeepScence\", \"genes_added\": genes_added, \"AUC\": auroc_DS})\n",
    "final_results = pd.DataFrame(final_results)\n",
    "final_results.to_csv(\"./data/Xenium/results/WI38_results.csv\")"
   ]
  },
  {
   "cell_type": "code",
   "execution_count": null,
   "id": "166d18e8-9b49-441c-abdb-3965e96da428",
   "metadata": {},
   "outputs": [],
   "source": []
  }
 ],
 "metadata": {
  "kernelspec": {
   "display_name": "Python 3 (ipykernel)",
   "language": "python",
   "name": "python3"
  },
  "language_info": {
   "codemirror_mode": {
    "name": "ipython",
    "version": 3
   },
   "file_extension": ".py",
   "mimetype": "text/x-python",
   "name": "python",
   "nbconvert_exporter": "python",
   "pygments_lexer": "ipython3",
   "version": "3.8.5"
  }
 },
 "nbformat": 4,
 "nbformat_minor": 5
}
